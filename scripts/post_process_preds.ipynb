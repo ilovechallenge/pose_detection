{
 "cells": [
  {
   "cell_type": "markdown",
   "metadata": {},
   "source": [
    "# Post Process Predictions\n",
    "Optimize keypoint position s.t. a set of constraints using Projected Gradient Descent."
   ]
  },
  {
   "cell_type": "markdown",
   "metadata": {},
   "source": []
  },
  {
   "cell_type": "code",
   "execution_count": 1,
   "metadata": {},
   "outputs": [],
   "source": [
    "import torch\n",
    "import numpy as np\n",
    "import matplotlib.pyplot as plt\n",
    "from lightning_pose.postprocess.projected_gd import ProjectedGD\n",
    "from torchtyping import TensorType\n",
    "from omegaconf import DictConfig\n",
    "from lightning_pose.utils.scripts import get_imgaug_transform, get_dataset, get_data_module, get_loss_factories\n",
    "from lightning_pose.utils.io import return_absolute_data_paths\n",
    "import hydra\n",
    "import os\n",
    "import pandas as pd\n",
    "import cvxpy as cp"
   ]
  },
  {
   "cell_type": "code",
   "execution_count": 2,
   "metadata": {},
   "outputs": [],
   "source": [
    "def MSE(preds: TensorType[\"num_samples\", \"num_keypoints\",2],\n",
    "        gt: TensorType[\"num_samples\", \"num_keypoints\",2]):\n",
    "    bp_error = torch.linalg.norm(preds - gt, dim=2) # error per keypoint-frame\n",
    "    #average_error = torch.mean(bp_error, dim=1) # mean over keypoints\n",
    "    return bp_error"
   ]
  },
  {
   "cell_type": "code",
   "execution_count": 3,
   "metadata": {},
   "outputs": [],
   "source": [
    "def get_base_config(config_dir: str, config_name: str) -> DictConfig:\n",
    "    assert(os.path.isdir(config_dir))\n",
    "    hydra.initialize_config_dir(base_config_dir)\n",
    "    cfg = hydra.compose(config_name=\"config\")\n",
    "    return cfg\n",
    "from typing import List\n",
    "def get_keypoint_names(csv_data: pd.DataFrame, header_rows: List[int]) -> List[str]:\n",
    "    if header_rows == [0,1,2]:\n",
    "        keypoint_names = [c[1] for c in csv_data.columns[1::2]]\n",
    "    elif header_rows == [1,2]:\n",
    "        keypoint_names = [c[0] for c in csv_data.columns[1::2]]\n",
    "    return keypoint_names"
   ]
  },
  {
   "cell_type": "code",
   "execution_count": 4,
   "metadata": {},
   "outputs": [],
   "source": [
    "dataset_name = \"rick-configs-1\"\n",
    "# dataset_name = \"ibl-pupil-2\"\n",
    "# dataset_name = \"ibl-paw-2\"\n",
    "base_config_dir = \"/home/jovyan/rick-configs-1\"\n",
    "base_save_dir = \"/home/jovyan/\"\n",
    "\n",
    "# hydra.initialize_config_dir(base_config_dir)\n",
    "# cfg = hydra.compose(config_name=\"config\")\n",
    "cfg = get_base_config(base_config_dir, \"config\")\n",
    "\n"
   ]
  },
  {
   "cell_type": "code",
   "execution_count": 5,
   "metadata": {},
   "outputs": [],
   "source": [
    "# load ground truth labels\n",
    "csv_file = os.path.join(cfg.data.data_dir, cfg.data.csv_file)\n",
    "csv_data = pd.read_csv(csv_file, header=list(cfg.data.header_rows))\n",
    "keypoints_gt = csv_data.iloc[:, 1:].to_numpy().reshape(csv_data.shape[0], -1, 2)\n",
    "\n",
    "keypoint_names = get_keypoint_names(csv_data, cfg.data.header_rows)"
   ]
  },
  {
   "cell_type": "code",
   "execution_count": 52,
   "metadata": {},
   "outputs": [
    {
     "name": "stdout",
     "output_type": "stream",
     "text": [
      "(1045, 17, 2)\n"
     ]
    }
   ],
   "source": [
    "# load pca singleview preds\n",
    "pred_file = \"/home/jovyan/lightning-pose/multirun/2022-03-27/01-17-25/0/predictions.csv\"\n",
    "pred_df = pd.read_csv(pred_file, header=[0, 1, 2], index_col=0)\n",
    "if pred_df.keys()[-1][0] == \"set\":\n",
    "    # these are predictions on labeled data; get rid of last column that\n",
    "    # contains info about train/val/test set\n",
    "    is_video = False\n",
    "    tmp = pred_df.iloc[:, :-1].to_numpy().reshape(pred_df.shape[0], -1, 3)\n",
    "keypoints_pred = tmp[:, :, :2]  # shape (samples, n_keypoints, 2)\n",
    "confidences = tmp[:, :, -1]  # shape (samples, n_keypoints)\n",
    "print(keypoints_pred.shape)\n",
    "#ground_truth_df = pd.read_csv(\"/datastores/mouseRunningData/CollectedData_.csv\", header=[1,2])"
   ]
  },
  {
   "cell_type": "code",
   "execution_count": 53,
   "metadata": {},
   "outputs": [
    {
     "data": {
      "text/plain": [
       "(1045, 17)"
      ]
     },
     "execution_count": 53,
     "metadata": {},
     "output_type": "execute_result"
    }
   ],
   "source": [
    "confidences.shape"
   ]
  },
  {
   "cell_type": "code",
   "execution_count": 7,
   "metadata": {},
   "outputs": [
    {
     "name": "stdout",
     "output_type": "stream",
     "text": [
      "Number of labeled images in the full dataset (train+val+test): 1045\n",
      "Size of -- train set: 75, val set: 104, test set: 105\n",
      "Warning: the argument `seed` shadows a Pipeline constructor argument of the same name.\n"
     ]
    },
    {
     "name": "stderr",
     "output_type": "stream",
     "text": [
      "[/opt/dali/dali/operators/reader/loader/video_loader.h:177] ``file_list_include_preceding_frame`` is set to False (or not set at all). In future releases, the default behavior would be changed to True.\n",
      "[/opt/dali/dali/operators/reader/nvdecoder/nvdecoder.cc:82] Warning: Decoding on a default stream. Performance may be affected.\n"
     ]
    },
    {
     "name": "stdout",
     "output_type": "stream",
     "text": [
      "Number of labeled images in the full dataset (train+val+test): 1045\n",
      "Size of -- train set: 75, val set: 104, test set: 105\n",
      "Results of running PCA (pca_singleview) on keypoints:\n",
      "Kept 13/28 components, and found:\n",
      "Explained variance ratio: [0.374 0.198 0.182 0.101 0.054 0.029 0.02  0.011 0.008 0.005 0.005 0.004\n",
      " 0.003 0.002 0.002 0.001 0.001 0.001 0.    0.    0.    0.    0.    0.\n",
      " 0.    0.    0.    0.   ]\n",
      "Variance explained by 13 components: 0.992\n"
     ]
    },
    {
     "name": "stderr",
     "output_type": "stream",
     "text": [
      "/home/jovyan/lightning-pose/lightning_pose/losses/losses.py:296: UserWarning: Using empirical epsilon=0.173 * multiplier=1.000 -> total=0.173 for pca_singleview loss\n",
      "  warnings.warn(\n"
     ]
    }
   ],
   "source": [
    "# save_dir = os.path.join(base_save_dir, dataset_name)\n",
    "save_dir = \"/home/jovyan/lightning-pose\"\n",
    "\n",
    "loss_type = \"pca_singleview\" # Change for different loss functions\n",
    "error_metric = \"reprojection_error\" # for pca only\n",
    "# define models\n",
    "to_compute = \"rmse\" # rmse | pca_multiview | pca_singleview | unimodal_mse\n",
    "model_name = \"supervised-heatmap-75\"\n",
    "train_frames = 75 # 000\n",
    "#pca_singleview_epsilon = 15.\n",
    "#pca_multiview_epsilon = None\n",
    "#empirical_epsilon_multiplier = 1.0 # can hack this if want to sweep over multipliers/losses\n",
    "model_type = \"heatmap\"\n",
    "#rng_seed = 42\n",
    "# temporal_epsilon = 9.8 # hack for now\n",
    "#loss_weight_dict['pca_singleview'].sort(reverse=True)\n",
    "\n",
    "pca_loss = None\n",
    "datamodule = None\n",
    "model_cfg = cfg.copy()\n",
    "model_cfg.training.train_frames = train_frames\n",
    "model_cfg.model.losses_to_use = [loss_type]\n",
    "from lightning_pose.utils.pca import KeypointPCA\n",
    "data_dir, video_dir = return_absolute_data_paths(data_cfg=model_cfg.data)\n",
    "imgaug_transform = get_imgaug_transform(cfg=model_cfg)\n",
    "dataset = get_dataset(cfg=model_cfg, data_dir=data_dir, imgaug_transform=imgaug_transform)\n",
    "data_module = get_data_module(cfg=model_cfg, dataset=dataset, video_dir=video_dir)\n",
    "data_module.setup()\n",
    "# compute pca params\n",
    "loss_factories = get_loss_factories(cfg=model_cfg, data_module=data_module)\n",
    "pca_loss = loss_factories[\"unsupervised\"].loss_instance_dict[loss_type]\n",
    "# store results here\n",
    "if to_compute == \"pca_singleview\":\n",
    "    # remove obstacle keypoints\n",
    "    keypoint_names = [kp for kp in keypoint_names if kp not in ['obs_top','obsHigh_bot','obsLow_bot']]\n",
    "    print(keypoint_names)\n",
    "\n",
    "metrics_collected = {bp: [] for bp in keypoint_names}\n",
    "cols_collected = []"
   ]
  },
  {
   "cell_type": "code",
   "execution_count": 8,
   "metadata": {},
   "outputs": [
    {
     "data": {
      "text/plain": [
       "<lightning_pose.utils.pca.KeypointPCA at 0x7fc66622f1c0>"
      ]
     },
     "execution_count": 8,
     "metadata": {},
     "output_type": "execute_result"
    }
   ],
   "source": [
    "pca_loss.pca"
   ]
  },
  {
   "cell_type": "code",
   "execution_count": 9,
   "metadata": {},
   "outputs": [],
   "source": [
    "def resize_keypoints(cfg, keypoints_pred):\n",
    "    \"\"\"reshape to training dims for pca losses, which are optimized for these dims\"\"\"\n",
    "    x_resize = cfg.data.image_resize_dims.width\n",
    "    x_og = cfg.data.image_orig_dims.width\n",
    "    keypoints_pred[:, :, 0] = keypoints_pred[:, :, 0] * (x_resize / x_og)\n",
    "    # put y vals back in original pixel space\n",
    "    y_resize = cfg.data.image_resize_dims.height\n",
    "    y_og = cfg.data.image_orig_dims.height\n",
    "    keypoints_pred[:, :, 1] = keypoints_pred[:, :, 1] * (y_resize / y_og)\n",
    "    return keypoints_pred"
   ]
  },
  {
   "cell_type": "code",
   "execution_count": 54,
   "metadata": {},
   "outputs": [],
   "source": [
    "# resize both arrays to training dims\n",
    "keypoints_pred = resize_keypoints(model_cfg, keypoints_pred)\n",
    "keypoints_gt = resize_keypoints(model_cfg, keypoints_gt)"
   ]
  },
  {
   "cell_type": "code",
   "execution_count": 55,
   "metadata": {},
   "outputs": [
    {
     "name": "stderr",
     "output_type": "stream",
     "text": [
      "/tmp/ipykernel_11281/592071754.py:4: UserWarning: To copy construct from a tensor, it is recommended to use sourceTensor.clone().detach() or sourceTensor.clone().detach().requires_grad_(True), rather than torch.tensor(sourceTensor).\n",
      "  keypoints_gt = pca_loss.pca._format_data(data_arr=torch.tensor(keypoints_gt).reshape(keypoints_gt.shape[0], -1))\n"
     ]
    },
    {
     "ename": "IndexError",
     "evalue": "index 14 is out of bounds for dimension 0 with size 14",
     "output_type": "error",
     "traceback": [
      "\u001b[0;31m---------------------------------------------------------------------------\u001b[0m",
      "\u001b[0;31mIndexError\u001b[0m                                Traceback (most recent call last)",
      "\u001b[0;32m/tmp/ipykernel_11281/592071754.py\u001b[0m in \u001b[0;36m<module>\u001b[0;34m\u001b[0m\n\u001b[1;32m      2\u001b[0m \u001b[0;31m#pca_cols = pca_loss.pca.columns_for_singleview_pca\u001b[0m\u001b[0;34m\u001b[0m\u001b[0;34m\u001b[0m\u001b[0;34m\u001b[0m\u001b[0m\n\u001b[1;32m      3\u001b[0m \u001b[0mkeypoints_pred\u001b[0m \u001b[0;34m=\u001b[0m \u001b[0mpca_loss\u001b[0m\u001b[0;34m.\u001b[0m\u001b[0mpca\u001b[0m\u001b[0;34m.\u001b[0m\u001b[0m_format_data\u001b[0m\u001b[0;34m(\u001b[0m\u001b[0mdata_arr\u001b[0m\u001b[0;34m=\u001b[0m\u001b[0mtorch\u001b[0m\u001b[0;34m.\u001b[0m\u001b[0mtensor\u001b[0m\u001b[0;34m(\u001b[0m\u001b[0mkeypoints_pred\u001b[0m\u001b[0;34m)\u001b[0m\u001b[0;34m.\u001b[0m\u001b[0mreshape\u001b[0m\u001b[0;34m(\u001b[0m\u001b[0mkeypoints_pred\u001b[0m\u001b[0;34m.\u001b[0m\u001b[0mshape\u001b[0m\u001b[0;34m[\u001b[0m\u001b[0;36m0\u001b[0m\u001b[0;34m]\u001b[0m\u001b[0;34m,\u001b[0m \u001b[0;34m-\u001b[0m\u001b[0;36m1\u001b[0m\u001b[0;34m)\u001b[0m\u001b[0;34m)\u001b[0m\u001b[0;34m\u001b[0m\u001b[0;34m\u001b[0m\u001b[0m\n\u001b[0;32m----> 4\u001b[0;31m \u001b[0mkeypoints_gt\u001b[0m \u001b[0;34m=\u001b[0m \u001b[0mpca_loss\u001b[0m\u001b[0;34m.\u001b[0m\u001b[0mpca\u001b[0m\u001b[0;34m.\u001b[0m\u001b[0m_format_data\u001b[0m\u001b[0;34m(\u001b[0m\u001b[0mdata_arr\u001b[0m\u001b[0;34m=\u001b[0m\u001b[0mtorch\u001b[0m\u001b[0;34m.\u001b[0m\u001b[0mtensor\u001b[0m\u001b[0;34m(\u001b[0m\u001b[0mkeypoints_gt\u001b[0m\u001b[0;34m)\u001b[0m\u001b[0;34m.\u001b[0m\u001b[0mreshape\u001b[0m\u001b[0;34m(\u001b[0m\u001b[0mkeypoints_gt\u001b[0m\u001b[0;34m.\u001b[0m\u001b[0mshape\u001b[0m\u001b[0;34m[\u001b[0m\u001b[0;36m0\u001b[0m\u001b[0;34m]\u001b[0m\u001b[0;34m,\u001b[0m \u001b[0;34m-\u001b[0m\u001b[0;36m1\u001b[0m\u001b[0;34m)\u001b[0m\u001b[0;34m)\u001b[0m\u001b[0;34m\u001b[0m\u001b[0;34m\u001b[0m\u001b[0m\n\u001b[0m",
      "\u001b[0;32m~/conda/lib/python3.8/site-packages/typeguard/__init__.py\u001b[0m in \u001b[0;36mwrapper\u001b[0;34m(*args, **kwargs)\u001b[0m\n\u001b[1;32m   1031\u001b[0m         \u001b[0mmemo\u001b[0m \u001b[0;34m=\u001b[0m \u001b[0m_CallMemo\u001b[0m\u001b[0;34m(\u001b[0m\u001b[0mpython_func\u001b[0m\u001b[0;34m,\u001b[0m \u001b[0m_localns\u001b[0m\u001b[0;34m,\u001b[0m \u001b[0margs\u001b[0m\u001b[0;34m=\u001b[0m\u001b[0margs\u001b[0m\u001b[0;34m,\u001b[0m \u001b[0mkwargs\u001b[0m\u001b[0;34m=\u001b[0m\u001b[0mkwargs\u001b[0m\u001b[0;34m)\u001b[0m\u001b[0;34m\u001b[0m\u001b[0;34m\u001b[0m\u001b[0m\n\u001b[1;32m   1032\u001b[0m         \u001b[0mcheck_argument_types\u001b[0m\u001b[0;34m(\u001b[0m\u001b[0mmemo\u001b[0m\u001b[0;34m)\u001b[0m\u001b[0;34m\u001b[0m\u001b[0;34m\u001b[0m\u001b[0m\n\u001b[0;32m-> 1033\u001b[0;31m         \u001b[0mretval\u001b[0m \u001b[0;34m=\u001b[0m \u001b[0mfunc\u001b[0m\u001b[0;34m(\u001b[0m\u001b[0;34m*\u001b[0m\u001b[0margs\u001b[0m\u001b[0;34m,\u001b[0m \u001b[0;34m**\u001b[0m\u001b[0mkwargs\u001b[0m\u001b[0;34m)\u001b[0m\u001b[0;34m\u001b[0m\u001b[0;34m\u001b[0m\u001b[0m\n\u001b[0m\u001b[1;32m   1034\u001b[0m         \u001b[0;32mtry\u001b[0m\u001b[0;34m:\u001b[0m\u001b[0;34m\u001b[0m\u001b[0;34m\u001b[0m\u001b[0m\n\u001b[1;32m   1035\u001b[0m             \u001b[0mcheck_return_type\u001b[0m\u001b[0;34m(\u001b[0m\u001b[0mretval\u001b[0m\u001b[0;34m,\u001b[0m \u001b[0mmemo\u001b[0m\u001b[0;34m)\u001b[0m\u001b[0;34m\u001b[0m\u001b[0;34m\u001b[0m\u001b[0m\n",
      "\u001b[0;32m~/lightning-pose/lightning_pose/utils/pca.py\u001b[0m in \u001b[0;36m_format_data\u001b[0;34m(self, data_arr)\u001b[0m\n\u001b[1;32m    117\u001b[0m         \u001b[0;31m#         \"num_original_samples_times_num_selected_keypoints\", \"two_times_num_views\"\u001b[0m\u001b[0;34m\u001b[0m\u001b[0;34m\u001b[0m\u001b[0;34m\u001b[0m\u001b[0m\n\u001b[1;32m    118\u001b[0m         \u001b[0;31m#     ]],  # multiview\u001b[0m\u001b[0;34m\u001b[0m\u001b[0;34m\u001b[0m\u001b[0;34m\u001b[0m\u001b[0m\n\u001b[0;32m--> 119\u001b[0;31m         \u001b[0;32mreturn\u001b[0m \u001b[0mself\u001b[0m\u001b[0;34m.\u001b[0m\u001b[0m_format_factory\u001b[0m\u001b[0;34m[\u001b[0m\u001b[0mself\u001b[0m\u001b[0;34m.\u001b[0m\u001b[0mloss_type\u001b[0m\u001b[0;34m]\u001b[0m\u001b[0;34m(\u001b[0m\u001b[0mdata_arr\u001b[0m\u001b[0;34m=\u001b[0m\u001b[0mdata_arr\u001b[0m\u001b[0;34m)\u001b[0m\u001b[0;34m\u001b[0m\u001b[0;34m\u001b[0m\u001b[0m\n\u001b[0m\u001b[1;32m    120\u001b[0m \u001b[0;34m\u001b[0m\u001b[0m\n\u001b[1;32m    121\u001b[0m     \u001b[0;31m# def _format_data(self) -> None:\u001b[0m\u001b[0;34m\u001b[0m\u001b[0;34m\u001b[0m\u001b[0;34m\u001b[0m\u001b[0m\n",
      "\u001b[0;32m~/conda/lib/python3.8/site-packages/typeguard/__init__.py\u001b[0m in \u001b[0;36mwrapper\u001b[0;34m(*args, **kwargs)\u001b[0m\n\u001b[1;32m   1031\u001b[0m         \u001b[0mmemo\u001b[0m \u001b[0;34m=\u001b[0m \u001b[0m_CallMemo\u001b[0m\u001b[0;34m(\u001b[0m\u001b[0mpython_func\u001b[0m\u001b[0;34m,\u001b[0m \u001b[0m_localns\u001b[0m\u001b[0;34m,\u001b[0m \u001b[0margs\u001b[0m\u001b[0;34m=\u001b[0m\u001b[0margs\u001b[0m\u001b[0;34m,\u001b[0m \u001b[0mkwargs\u001b[0m\u001b[0;34m=\u001b[0m\u001b[0mkwargs\u001b[0m\u001b[0;34m)\u001b[0m\u001b[0;34m\u001b[0m\u001b[0;34m\u001b[0m\u001b[0m\n\u001b[1;32m   1032\u001b[0m         \u001b[0mcheck_argument_types\u001b[0m\u001b[0;34m(\u001b[0m\u001b[0mmemo\u001b[0m\u001b[0;34m)\u001b[0m\u001b[0;34m\u001b[0m\u001b[0;34m\u001b[0m\u001b[0m\n\u001b[0;32m-> 1033\u001b[0;31m         \u001b[0mretval\u001b[0m \u001b[0;34m=\u001b[0m \u001b[0mfunc\u001b[0m\u001b[0;34m(\u001b[0m\u001b[0;34m*\u001b[0m\u001b[0margs\u001b[0m\u001b[0;34m,\u001b[0m \u001b[0;34m**\u001b[0m\u001b[0mkwargs\u001b[0m\u001b[0;34m)\u001b[0m\u001b[0;34m\u001b[0m\u001b[0;34m\u001b[0m\u001b[0m\n\u001b[0m\u001b[1;32m   1034\u001b[0m         \u001b[0;32mtry\u001b[0m\u001b[0;34m:\u001b[0m\u001b[0;34m\u001b[0m\u001b[0;34m\u001b[0m\u001b[0m\n\u001b[1;32m   1035\u001b[0m             \u001b[0mcheck_return_type\u001b[0m\u001b[0;34m(\u001b[0m\u001b[0mretval\u001b[0m\u001b[0;34m,\u001b[0m \u001b[0mmemo\u001b[0m\u001b[0;34m)\u001b[0m\u001b[0;34m\u001b[0m\u001b[0;34m\u001b[0m\u001b[0m\n",
      "\u001b[0;32m~/lightning-pose/lightning_pose/utils/pca.py\u001b[0m in \u001b[0;36m_singleview_format\u001b[0;34m(self, data_arr)\u001b[0m\n\u001b[1;32m    101\u001b[0m             \u001b[0mdata_arr\u001b[0m \u001b[0;34m=\u001b[0m \u001b[0mdata_arr\u001b[0m\u001b[0;34m.\u001b[0m\u001b[0mreshape\u001b[0m\u001b[0;34m(\u001b[0m\u001b[0mdata_arr\u001b[0m\u001b[0;34m.\u001b[0m\u001b[0mshape\u001b[0m\u001b[0;34m[\u001b[0m\u001b[0;36m0\u001b[0m\u001b[0;34m]\u001b[0m\u001b[0;34m,\u001b[0m \u001b[0mdata_arr\u001b[0m\u001b[0;34m.\u001b[0m\u001b[0mshape\u001b[0m\u001b[0;34m[\u001b[0m\u001b[0;36m1\u001b[0m\u001b[0;34m]\u001b[0m \u001b[0;34m//\u001b[0m \u001b[0;36m2\u001b[0m\u001b[0;34m,\u001b[0m \u001b[0;36m2\u001b[0m\u001b[0;34m)\u001b[0m\u001b[0;34m\u001b[0m\u001b[0;34m\u001b[0m\u001b[0m\n\u001b[1;32m    102\u001b[0m             \u001b[0;31m# select columns\u001b[0m\u001b[0;34m\u001b[0m\u001b[0;34m\u001b[0m\u001b[0;34m\u001b[0m\u001b[0m\n\u001b[0;32m--> 103\u001b[0;31m             \u001b[0mdata_arr\u001b[0m \u001b[0;34m=\u001b[0m \u001b[0mdata_arr\u001b[0m\u001b[0;34m[\u001b[0m\u001b[0;34m:\u001b[0m\u001b[0;34m,\u001b[0m \u001b[0mnp\u001b[0m\u001b[0;34m.\u001b[0m\u001b[0marray\u001b[0m\u001b[0;34m(\u001b[0m\u001b[0mself\u001b[0m\u001b[0;34m.\u001b[0m\u001b[0mcolumns_for_singleview_pca\u001b[0m\u001b[0;34m)\u001b[0m\u001b[0;34m,\u001b[0m \u001b[0;34m:\u001b[0m\u001b[0;34m]\u001b[0m\u001b[0;34m\u001b[0m\u001b[0;34m\u001b[0m\u001b[0m\n\u001b[0m\u001b[1;32m    104\u001b[0m             \u001b[0;31m# reshape back to (batch, num_selected_keypoints * 2)\u001b[0m\u001b[0;34m\u001b[0m\u001b[0;34m\u001b[0m\u001b[0;34m\u001b[0m\u001b[0m\n\u001b[1;32m    105\u001b[0m             \u001b[0mdata_arr\u001b[0m \u001b[0;34m=\u001b[0m \u001b[0mdata_arr\u001b[0m\u001b[0;34m.\u001b[0m\u001b[0mreshape\u001b[0m\u001b[0;34m(\u001b[0m\u001b[0mdata_arr\u001b[0m\u001b[0;34m.\u001b[0m\u001b[0mshape\u001b[0m\u001b[0;34m[\u001b[0m\u001b[0;36m0\u001b[0m\u001b[0;34m]\u001b[0m\u001b[0;34m,\u001b[0m \u001b[0mdata_arr\u001b[0m\u001b[0;34m.\u001b[0m\u001b[0mshape\u001b[0m\u001b[0;34m[\u001b[0m\u001b[0;36m1\u001b[0m\u001b[0;34m]\u001b[0m \u001b[0;34m*\u001b[0m \u001b[0;36m2\u001b[0m\u001b[0;34m)\u001b[0m\u001b[0;34m\u001b[0m\u001b[0;34m\u001b[0m\u001b[0m\n",
      "\u001b[0;31mIndexError\u001b[0m: index 14 is out of bounds for dimension 0 with size 14"
     ]
    }
   ],
   "source": [
    "# remove redundant keypoints for pca singleview\n",
    "#pca_cols = pca_loss.pca.columns_for_singleview_pca\n",
    "keypoints_pred = pca_loss.pca._format_data(data_arr=torch.tensor(keypoints_pred).reshape(keypoints_pred.shape[0], -1))\n",
    "keypoints_gt = pca_loss.pca._format_data(data_arr=torch.tensor(keypoints_gt).reshape(keypoints_gt.shape[0], -1))\n"
   ]
  },
  {
   "cell_type": "code",
   "execution_count": 12,
   "metadata": {},
   "outputs": [
    {
     "name": "stdout",
     "output_type": "stream",
     "text": [
      "torch.Size([1045, 28])\n",
      "torch.Size([1045, 28])\n"
     ]
    }
   ],
   "source": [
    "print(keypoints_gt.shape)\n",
    "print(keypoints_pred.shape)"
   ]
  },
  {
   "cell_type": "code",
   "execution_count": 38,
   "metadata": {},
   "outputs": [],
   "source": [
    "proj_gd = ProjectedGD(data=keypoints_pred.to(\"cuda\", dtype=pca_loss.pca.parameters[\"mean\"].dtype), \\\n",
    "    ground_truth=keypoints_gt.to(\"cuda\", dtype=pca_loss.pca.parameters[\"mean\"].dtype), \\\n",
    "    proj_params={\"pca_singleview\": pca_loss.pca}, lr=None, max_iter=4000, tol=1e-3, verbose=False)\n"
   ]
  },
  {
   "cell_type": "code",
   "execution_count": 39,
   "metadata": {},
   "outputs": [
    {
     "name": "stderr",
     "output_type": "stream",
     "text": [
      "100%|██████████| 4000/4000 [00:05<00:00, 673.77it/s]\n"
     ]
    }
   ],
   "source": [
    "# fit\n",
    "out = proj_gd.fit()"
   ]
  },
  {
   "cell_type": "code",
   "execution_count": 41,
   "metadata": {},
   "outputs": [],
   "source": [
    "err_list = [err.unsqueeze(-1) for err in proj_gd.error_list]"
   ]
  },
  {
   "cell_type": "code",
   "execution_count": 42,
   "metadata": {},
   "outputs": [
    {
     "data": {
      "text/plain": [
       "torch.Size([1045, 1])"
      ]
     },
     "execution_count": 42,
     "metadata": {},
     "output_type": "execute_result"
    }
   ],
   "source": [
    "err_list[0].shape"
   ]
  },
  {
   "cell_type": "code",
   "execution_count": 43,
   "metadata": {},
   "outputs": [],
   "source": [
    "out = torch.hstack(err_list)"
   ]
  },
  {
   "cell_type": "code",
   "execution_count": 44,
   "metadata": {},
   "outputs": [],
   "source": [
    "out = out.detach().cpu().numpy()"
   ]
  },
  {
   "cell_type": "code",
   "execution_count": 48,
   "metadata": {},
   "outputs": [
    {
     "data": {
      "image/png": "[encoded data removed]",
      "text/plain": [
       "<Figure size 432x288 with 1 Axes>"
      ]
     },
     "metadata": {
      "needs_background": "light"
     },
     "output_type": "display_data"
    }
   ],
   "source": [
    "%matplotlib inline\n",
    "mean = np.mean(out, axis=0)\n",
    "stderr = np.std(out, axis=0) / np.sqrt(out.shape[0])\n",
    "plt.plot(np.mean(out, axis=0))\n",
    "plt.fill_between(np.arange(len(mean)), mean - stderr, mean + stderr, alpha=0.5)\n",
    "plt.xlabel('iteration')\n",
    "plt.ylabel('mean pixel error -+ stderr')\n",
    "save_dir = \"/home/jovyan\"\n",
    "plt.title(\"Pixel error during optimization\")\n",
    "plt.savefig(os.path.join(save_dir, \"pca_singleview_error_vs_iter.pdf\"))"
   ]
  },
  {
   "cell_type": "code",
   "execution_count": 27,
   "metadata": {},
   "outputs": [
    {
     "data": {
      "text/plain": [
       "array([[       nan,        nan,        nan, ...,        nan,        nan,\n",
       "               nan],\n",
       "       [       nan,        nan,        nan, ...,        nan,        nan,\n",
       "               nan],\n",
       "       [       nan,        nan,        nan, ...,        nan,        nan,\n",
       "               nan],\n",
       "       ...,\n",
       "       [ 3.1426055,  3.1426055,  3.1426055, ...,  3.1426055,  3.1426055,\n",
       "         3.1426055],\n",
       "       [11.278218 , 11.278218 , 11.278218 , ..., 14.035965 , 14.035965 ,\n",
       "        14.035965 ],\n",
       "       [       nan,        nan,        nan, ...,        nan,        nan,\n",
       "               nan]], dtype=float32)"
      ]
     },
     "execution_count": 27,
     "metadata": {},
     "output_type": "execute_result"
    }
   ],
   "source": [
    "out"
   ]
  },
  {
   "cell_type": "code",
   "execution_count": 29,
   "metadata": {},
   "outputs": [
    {
     "data": {
      "text/plain": [
       "tensor([[[ 66.7442,  37.7990],\n",
       "         [162.8132,  67.4593],\n",
       "         [151.7117,  61.4233],\n",
       "         ...,\n",
       "         [ 58.4374, 204.5468],\n",
       "         [ 34.3833, 210.4543],\n",
       "         [245.2683, 177.6950]],\n",
       "\n",
       "        [[ 37.3207,  77.2357],\n",
       "         [177.8746,  58.4439],\n",
       "         [176.0794,  73.8363],\n",
       "         ...,\n",
       "         [ 39.8484, 195.9745],\n",
       "         [ 22.2865, 200.0844],\n",
       "         [245.2894, 177.2753]],\n",
       "\n",
       "        [[ 93.2913,  73.8146],\n",
       "         [209.0615,  66.3784],\n",
       "         [184.7010,  68.9636],\n",
       "         ...,\n",
       "         [ 54.1263, 216.9473],\n",
       "         [ 33.1530, 236.7531],\n",
       "         [245.7558, 181.3655]],\n",
       "\n",
       "        ...,\n",
       "\n",
       "        [[106.7211,  66.0126],\n",
       "         [208.4263,  59.0834],\n",
       "         [145.7761,  66.3464],\n",
       "         ...,\n",
       "         [ 59.8686, 142.2760],\n",
       "         [ 42.8180, 121.8896],\n",
       "         [245.1495, 179.7290]],\n",
       "\n",
       "        [[136.4247,  66.2763],\n",
       "         [164.1049,  73.7205],\n",
       "         [165.4491,  68.3267],\n",
       "         ...,\n",
       "         [ 63.1628, 140.2260],\n",
       "         [ 43.1016, 122.2235],\n",
       "         [243.9804, 178.1428]],\n",
       "\n",
       "        [[ 94.2892,  70.6250],\n",
       "         [202.1082,  78.7779],\n",
       "         [134.5277,  70.7692],\n",
       "         ...,\n",
       "         [ 64.8049, 143.3832],\n",
       "         [ 52.7272, 125.5274],\n",
       "         [243.9054, 179.2536]]], device='cuda:0')"
      ]
     },
     "execution_count": 29,
     "metadata": {},
     "output_type": "execute_result"
    }
   ],
   "source": []
  },
  {
   "cell_type": "markdown",
   "metadata": {},
   "source": [
    "## CVXPY version\n",
    "* use norm on desired axis/dims. \n",
    "* reshape to go between per bodypart and per frame\n",
    "* have to reshape differently just to be able to work with 2d mats always and not tensors\n",
    "* 2d keypoints can be treated independently for the objective\n",
    "* we just have to reshape them back to num_frames x num_keypoints for the constraints."
   ]
  },
  {
   "cell_type": "code",
   "execution_count": 13,
   "metadata": {},
   "outputs": [
    {
     "name": "stdout",
     "output_type": "stream",
     "text": [
      "[[  0.   1.   0.   2.]\n",
      " [  0.  10.   0.  20.]\n",
      " [  0. 100.   0. 200.]]\n"
     ]
    }
   ],
   "source": [
    "test_arr = np.array([[0., 1., 0., 2], [0., 10., 0., 20.], [0., 100., 0., 200.]])\n",
    "print(test_arr)\n",
    "test_arr1 = test_arr.reshape(test_arr.shape[0], -1, 2)\n",
    "test_arr_2 = test_arr.reshape(-1,2)\n",
    "# can reshape directly to test_arr_2\n",
    "assert(np.allclose(test_arr_2[1,:], test_arr[0, 2:]))\n",
    "test_arr_3 = test_arr_2.reshape(test_arr.shape)\n",
    "assert(np.allclose(test_arr_3, test_arr))"
   ]
  },
  {
   "cell_type": "code",
   "execution_count": 49,
   "metadata": {},
   "outputs": [
    {
     "ename": "AttributeError",
     "evalue": "'numpy.ndarray' object has no attribute 'detach'",
     "output_type": "error",
     "traceback": [
      "\u001b[0;31m---------------------------------------------------------------------------\u001b[0m",
      "\u001b[0;31mAttributeError\u001b[0m                            Traceback (most recent call last)",
      "\u001b[0;32m/tmp/ipykernel_11281/556511011.py\u001b[0m in \u001b[0;36m<module>\u001b[0;34m\u001b[0m\n\u001b[0;32m----> 1\u001b[0;31m \u001b[0mkeypoints_pred\u001b[0m \u001b[0;34m=\u001b[0m \u001b[0mkeypoints_pred\u001b[0m\u001b[0;34m.\u001b[0m\u001b[0mdetach\u001b[0m\u001b[0;34m(\u001b[0m\u001b[0;34m)\u001b[0m\u001b[0;34m.\u001b[0m\u001b[0mcpu\u001b[0m\u001b[0;34m(\u001b[0m\u001b[0;34m)\u001b[0m\u001b[0;34m.\u001b[0m\u001b[0mnumpy\u001b[0m\u001b[0;34m(\u001b[0m\u001b[0;34m)\u001b[0m\u001b[0;34m\u001b[0m\u001b[0;34m\u001b[0m\u001b[0m\n\u001b[0m\u001b[1;32m      2\u001b[0m \u001b[0mkeypoints_pred_2d\u001b[0m \u001b[0;34m=\u001b[0m \u001b[0mkeypoints_pred\u001b[0m\u001b[0;34m.\u001b[0m\u001b[0mreshape\u001b[0m\u001b[0;34m(\u001b[0m\u001b[0;34m-\u001b[0m\u001b[0;36m1\u001b[0m\u001b[0;34m,\u001b[0m \u001b[0;36m2\u001b[0m\u001b[0;34m)\u001b[0m \u001b[0;31m# shape (samples* n_keypoints, 2)\u001b[0m\u001b[0;34m\u001b[0m\u001b[0;34m\u001b[0m\u001b[0m\n\u001b[1;32m      3\u001b[0m \u001b[0mprint\u001b[0m\u001b[0;34m(\u001b[0m\u001b[0mkeypoints_pred_2d\u001b[0m\u001b[0;34m.\u001b[0m\u001b[0mshape\u001b[0m\u001b[0;34m)\u001b[0m\u001b[0;34m\u001b[0m\u001b[0;34m\u001b[0m\u001b[0m\n",
      "\u001b[0;31mAttributeError\u001b[0m: 'numpy.ndarray' object has no attribute 'detach'"
     ]
    }
   ],
   "source": [
    "keypoints_pred = keypoints_pred.detach().cpu().numpy()\n",
    "keypoints_pred_2d = keypoints_pred.reshape(-1, 2) # shape (samples* n_keypoints, 2)\n",
    "print(keypoints_pred_2d.shape)"
   ]
  },
  {
   "cell_type": "code",
   "execution_count": 14,
   "metadata": {},
   "outputs": [],
   "source": [
    "# convert pca params to numpy\n",
    "pca_param_np = {}\n",
    "for p_name, p_val in pca_loss.pca.parameters.items():\n",
    "    if isinstance(p_val, torch.Tensor):\n",
    "        pca_param_np[p_name] = p_val.detach().cpu().numpy()\n",
    "    else:\n",
    "        pca_param_np[p_name] = p_val"
   ]
  },
  {
   "cell_type": "code",
   "execution_count": 15,
   "metadata": {},
   "outputs": [
    {
     "data": {
      "text/plain": [
       "dict_keys(['mean', 'kept_eigenvectors', 'discarded_eigenvectors', 'epsilon'])"
      ]
     },
     "execution_count": 15,
     "metadata": {},
     "output_type": "execute_result"
    }
   ],
   "source": [
    "pca_param_np.keys()"
   ]
  },
  {
   "cell_type": "code",
   "execution_count": 16,
   "metadata": {},
   "outputs": [],
   "source": [
    "from typing import Dict, List, Tuple"
   ]
  },
  {
   "cell_type": "code",
   "execution_count": 25,
   "metadata": {},
   "outputs": [],
   "source": [
    "def reproject_cvxpy(keypoints, evecs, mean):\n",
    "    mean = np.tile(mean, (keypoints.shape[0], 1)) # for each sample, repeat mean, to broadcast\n",
    "    # transform data into low-d space as in scikit learn's _BasePCA.transform()\n",
    "    # https://github.com/scikit-learn/scikit-learn/blob/37ac6788c9504ee409b75e5e24ff7d86c90c2ffb/sklearn/decomposition/_base.py#L97\n",
    "    centered_data = keypoints - mean\n",
    "    low_d_projection = centered_data @ evecs.T\n",
    "\n",
    "    # project back up to observation space, as in scikit learn's _BasePCA.inverse_transform()\n",
    "    # https://github.com/scikit-learn/scikit-learn/blob/37ac6788c9504ee409b75e5e24ff7d86c90c2ffb/sklearn/decomposition/_base.py#L125\n",
    "    reprojection = low_d_projection @ evecs + mean\n",
    "    return reprojection\n",
    "    \n",
    "def build_pca_constraint(x: cp.Variable, keypoints_orig_shape: Tuple[int,int], pca_param_np: Dict[str, np.array]) -> List[cp.constraints.Inequality]:\n",
    "    # reshape keypoints \n",
    "    #shapes = x.shape\n",
    "    #out = np.prod(shapes)//2\n",
    "    #test_arr_f = test_arr.T.reshape(2,out, order='F').T # that's what I should do!\n",
    "    #x = cp.reshape(x.T, shape=(2, out)).T\n",
    "    x = cp.reshape(x.T, shape=(keypoints_orig_shape[1], keypoints_orig_shape[0])).T\n",
    "    print(x)\n",
    "    # transform data into low-d space as in scikit learn's _BasePCA.transform()\n",
    "    reconstruction = reproject_cvxpy(x, pca_param_np[\"kept_eigenvectors\"], pca_param_np[\"mean\"])\n",
    "    recon_err = cp.norm(reconstruction - x, p=2, axis=1)\n",
    "    return [recon_err <= pca_param_np[\"epsilon\"]]"
   ]
  },
  {
   "cell_type": "code",
   "execution_count": 26,
   "metadata": {},
   "outputs": [],
   "source": [
    "# build_pca_constraint(x=x, keypoints_orig_shape=keypoints_pred.shape, pca_param_np=pca_param_np)"
   ]
  },
  {
   "cell_type": "code",
   "execution_count": 48,
   "metadata": {},
   "outputs": [
    {
     "name": "stdout",
     "output_type": "stream",
     "text": [
      "var84\n"
     ]
    },
    {
     "ename": "ValueError",
     "evalue": "cannot reshape array of size 17765 into shape (14630,2)",
     "output_type": "error",
     "traceback": [
      "\u001b[0;31m---------------------------------------------------------------------------\u001b[0m",
      "\u001b[0;31mValueError\u001b[0m                                Traceback (most recent call last)",
      "\u001b[0;32m/tmp/ipykernel_11281/1326103088.py\u001b[0m in \u001b[0;36m<module>\u001b[0;34m\u001b[0m\n\u001b[1;32m      4\u001b[0m \u001b[0mprint\u001b[0m\u001b[0;34m(\u001b[0m\u001b[0mx\u001b[0m\u001b[0;34m)\u001b[0m\u001b[0;34m\u001b[0m\u001b[0;34m\u001b[0m\u001b[0m\n\u001b[1;32m      5\u001b[0m \u001b[0;31m#x.value = keypoints_pred_2d.detach().cpu().numpy() # doesn't seem to matter\u001b[0m\u001b[0;34m\u001b[0m\u001b[0;34m\u001b[0m\u001b[0;34m\u001b[0m\u001b[0m\n\u001b[0;32m----> 6\u001b[0;31m \u001b[0mweights\u001b[0m \u001b[0;34m=\u001b[0m \u001b[0mconfidences\u001b[0m\u001b[0;34m.\u001b[0m\u001b[0mreshape\u001b[0m\u001b[0;34m(\u001b[0m\u001b[0mkeypoints_pred_2d\u001b[0m\u001b[0;34m.\u001b[0m\u001b[0mshape\u001b[0m\u001b[0;34m)\u001b[0m \u001b[0;31m#np.ones(shape=(keypoints_pred_2d.shape[0],)) # in the future use actual vals\u001b[0m\u001b[0;34m\u001b[0m\u001b[0;34m\u001b[0m\u001b[0m\n\u001b[0m\u001b[1;32m      7\u001b[0m \u001b[0;34m\u001b[0m\u001b[0m\n\u001b[1;32m      8\u001b[0m \u001b[0mnorm\u001b[0m \u001b[0;34m=\u001b[0m \u001b[0mcp\u001b[0m\u001b[0;34m.\u001b[0m\u001b[0mnorm\u001b[0m\u001b[0;34m(\u001b[0m\u001b[0mx\u001b[0m \u001b[0;34m-\u001b[0m \u001b[0mkeypoints_pred_2d\u001b[0m\u001b[0;34m,\u001b[0m \u001b[0mp\u001b[0m\u001b[0;34m=\u001b[0m\u001b[0;36m2\u001b[0m\u001b[0;34m,\u001b[0m \u001b[0maxis\u001b[0m\u001b[0;34m=\u001b[0m\u001b[0;36m1\u001b[0m\u001b[0;34m)\u001b[0m\u001b[0;34m\u001b[0m\u001b[0;34m\u001b[0m\u001b[0m\n",
      "\u001b[0;31mValueError\u001b[0m: cannot reshape array of size 17765 into shape (14630,2)"
     ]
    }
   ],
   "source": [
    "keypoints_pred_2d = keypoints_pred.reshape(-1, 2) # shape (samples* n_keypoints, 2)\n",
    "\n",
    "x = cp.Variable(keypoints_pred_2d.shape)\n",
    "print(x)\n",
    "#x.value = keypoints_pred_2d.detach().cpu().numpy() # doesn't seem to matter\n",
    "weights = confidences.reshape(keypoints_pred_2d.shape) #np.ones(shape=(keypoints_pred_2d.shape[0],)) # in the future use actual vals\n",
    "\n",
    "norm = cp.norm(x - keypoints_pred_2d, p=2, axis=1)\n",
    "# sum the weighted norms over the samples and keypoints\n",
    "objective = cp.Minimize(cp.sum(cp.multiply(weights, norm)))\n",
    "\n",
    "constraints = build_pca_constraint(x=x, keypoints_orig_shape=keypoints_pred.shape, pca_param_np=pca_param_np)\n",
    "\n",
    "prob = cp.Problem(objective, constraints)\n",
    "print(prob)\n",
    "\n",
    "print(\"Optimal value\", prob.solve())\n",
    "print(\"Optimal var\")\n",
    "print(x.value) # A numpy ndarray.\n"
   ]
  },
  {
   "cell_type": "code",
   "execution_count": 28,
   "metadata": {},
   "outputs": [
    {
     "name": "stdout",
     "output_type": "stream",
     "text": [
      "Optimal value 123356.9091458245\n"
     ]
    }
   ],
   "source": [
    "print(\"Optimal value\", prob.solve())"
   ]
  },
  {
   "cell_type": "code",
   "execution_count": 29,
   "metadata": {},
   "outputs": [],
   "source": [
    "optimized_keypoints = x.value.reshape(keypoints_pred.shape)"
   ]
  },
  {
   "cell_type": "code",
   "execution_count": 30,
   "metadata": {},
   "outputs": [
    {
     "data": {
      "text/plain": [
       "(1045, 28)"
      ]
     },
     "execution_count": 30,
     "metadata": {},
     "output_type": "execute_result"
    }
   ],
   "source": [
    "optimized_keypoints.shape"
   ]
  },
  {
   "cell_type": "code",
   "execution_count": 31,
   "metadata": {},
   "outputs": [
    {
     "data": {
      "text/plain": [
       "Index([('Unnamed: 52_level_1', 'Unnamed: 52_level_2')], dtype='object')"
      ]
     },
     "execution_count": 31,
     "metadata": {},
     "output_type": "execute_result"
    }
   ],
   "source": [
    "pred_df[\"set\"].columns.to_flat_index()\n",
    "#pred_df[pred_df[\"set\"]==\"train\"]"
   ]
  },
  {
   "cell_type": "code",
   "execution_count": 32,
   "metadata": {},
   "outputs": [],
   "source": [
    "eval_cond = \"test\"\n",
    "inds_to_use = pred_df[(pred_df[\"set\"]==eval_cond).to_numpy()].index.values"
   ]
  },
  {
   "cell_type": "code",
   "execution_count": 39,
   "metadata": {},
   "outputs": [
    {
     "data": {
      "text/plain": [
       "'barObstacleScaling1/img10.png'"
      ]
     },
     "execution_count": 39,
     "metadata": {},
     "output_type": "execute_result"
    }
   ],
   "source": [
    "img_name = csv_data.iloc[inds_to_use[0],0]#[\"image_name\"]\n",
    "img_name"
   ]
  },
  {
   "cell_type": "code",
   "execution_count": 33,
   "metadata": {},
   "outputs": [],
   "source": [
    "from PIL import Image"
   ]
  },
  {
   "cell_type": "code",
   "execution_count": 35,
   "metadata": {},
   "outputs": [],
   "source": [
    "keypoints_gt = keypoints_gt.reshape(keypoints_gt.shape[0], -1, 2)\n",
    "keypoints_pred = keypoints_pred.reshape(keypoints_pred.shape[0], -1, 2)"
   ]
  },
  {
   "cell_type": "code",
   "execution_count": 36,
   "metadata": {},
   "outputs": [],
   "source": [
    "optimized_keypoints = optimized_keypoints.reshape(optimized_keypoints.shape[0], -1, 2)"
   ]
  },
  {
   "cell_type": "code",
   "execution_count": 37,
   "metadata": {},
   "outputs": [
    {
     "name": "stdout",
     "output_type": "stream",
     "text": [
      "(1045, 14, 2)\n",
      "(1045, 14, 2)\n",
      "torch.Size([1045, 14, 2])\n"
     ]
    }
   ],
   "source": [
    "print(optimized_keypoints.shape)\n",
    "print(keypoints_pred.shape)\n",
    "print(keypoints_gt.shape)"
   ]
  },
  {
   "cell_type": "code",
   "execution_count": 45,
   "metadata": {},
   "outputs": [],
   "source": [
    "img_index = 16\n",
    "img_name = csv_data.iloc[inds_to_use[img_index],0]\n",
    "file_name = os.path.join(cfg.data.data_dir, img_name)\n",
    "assert os.path.exists(file_name)\n",
    "        # if 1 color channel, change to 3.\n",
    "image = Image.open(file_name).convert(\"RGB\")\n"
   ]
  },
  {
   "cell_type": "code",
   "execution_count": 46,
   "metadata": {},
   "outputs": [
    {
     "data": {
      "text/plain": [
       "<matplotlib.legend.Legend at 0x7fc768dade20>"
      ]
     },
     "execution_count": 46,
     "metadata": {},
     "output_type": "execute_result"
    },
    {
     "data": {
      "image/png": "[encoded data removed]",
      "text/plain": [
       "<Figure size 432x288 with 1 Axes>"
      ]
     },
     "metadata": {
      "needs_background": "light"
     },
     "output_type": "display_data"
    }
   ],
   "source": [
    "plt.imshow(image.resize((256,256)))\n",
    "plt.scatter(keypoints_gt[inds_to_use[img_index],:,0], keypoints_gt[inds_to_use[img_index],:,1], s=10, c=\"r\", label=\"ground truth\")\n",
    "plt.scatter(keypoints_pred[inds_to_use[img_index],:,0], keypoints_pred[inds_to_use[img_index],:,1], s=10, c=\"b\", label=\"predicted\")\n",
    "plt.scatter(optimized_keypoints[inds_to_use[img_index],:,0], optimized_keypoints[inds_to_use[img_index],:,1], s=10, c=\"g\", label=\"optimized\", marker=\"x\")\n",
    "plt.legend(loc=\"lower right\")\n",
    "#plt.savefig('/home/jovyan/figs/first_cvxpy_optim.png')\n"
   ]
  },
  {
   "cell_type": "code",
   "execution_count": 26,
   "metadata": {},
   "outputs": [
    {
     "data": {
      "text/plain": [
       "array([   0,    1,    2, ..., 1042, 1043, 1044])"
      ]
     },
     "execution_count": 26,
     "metadata": {},
     "output_type": "execute_result"
    }
   ],
   "source": [
    "pred_df[\"set\"].index.values\n",
    "#pred_df[pred_df.set==\"test\"]"
   ]
  },
  {
   "cell_type": "code",
   "execution_count": 21,
   "metadata": {},
   "outputs": [],
   "source": [
    "from lightning_pose.data.utils import DataExtractor"
   ]
  },
  {
   "cell_type": "code",
   "execution_count": 22,
   "metadata": {},
   "outputs": [],
   "source": [
    "keypoints_tensor, images_tensor = DataExtractor(data_module=data_module, cond=\"test\", extract_images=True)()"
   ]
  },
  {
   "cell_type": "code",
   "execution_count": 24,
   "metadata": {},
   "outputs": [
    {
     "data": {
      "text/plain": [
       "torch.Size([105, 34])"
      ]
     },
     "execution_count": 24,
     "metadata": {},
     "output_type": "execute_result"
    }
   ],
   "source": [
    "keypoints_tensor.shape"
   ]
  },
  {
   "cell_type": "code",
   "execution_count": 24,
   "metadata": {},
   "outputs": [
    {
     "ename": "AttributeError",
     "evalue": "'tuple' object has no attribute 'T'",
     "output_type": "error",
     "traceback": [
      "\u001b[0;31m---------------------------------------------------------------------------\u001b[0m",
      "\u001b[0;31mAttributeError\u001b[0m                            Traceback (most recent call last)",
      "\u001b[0;32m/tmp/ipykernel_11281/355951201.py\u001b[0m in \u001b[0;36m<module>\u001b[0;34m\u001b[0m\n\u001b[0;32m----> 1\u001b[0;31m \u001b[0;34m(\u001b[0m\u001b[0;36m2\u001b[0m\u001b[0;34m,\u001b[0m\u001b[0;36m3\u001b[0m\u001b[0;34m)\u001b[0m\u001b[0;34m.\u001b[0m\u001b[0mT\u001b[0m\u001b[0;34m\u001b[0m\u001b[0;34m\u001b[0m\u001b[0m\n\u001b[0m",
      "\u001b[0;31mAttributeError\u001b[0m: 'tuple' object has no attribute 'T'"
     ]
    }
   ],
   "source": [
    "(2,3)"
   ]
  },
  {
   "cell_type": "code",
   "execution_count": null,
   "metadata": {},
   "outputs": [],
   "source": []
  }
 ],
 "metadata": {
  "interpreter": {
   "hash": "b2db7ebd2a6eaabbedad5619cf81ba50362feaaec41f65baf0d1ccad0b63e6ce"
  },
  "kernelspec": {
   "display_name": "Python 3.8.8 ('base')",
   "language": "python",
   "name": "python3"
  },
  "language_info": {
   "codemirror_mode": {
    "name": "ipython",
    "version": 3
   },
   "file_extension": ".py",
   "mimetype": "text/x-python",
   "name": "python",
   "nbconvert_exporter": "python",
   "pygments_lexer": "ipython3",
   "version": "3.8.8"
  },
  "orig_nbformat": 4
 },
 "nbformat": 4,
 "nbformat_minor": 2
}
