{
 "cells": [
  {
   "cell_type": "code",
   "execution_count": 1,
   "id": "633e094e",
   "metadata": {},
   "outputs": [],
   "source": [
    "import torch\n",
    "from torch.nn import functional as F\n",
    "from torch import nn\n",
    "from pytorch_lightning.core.lightning import LightningModule\n",
    "from pytorch_lightning import Trainer\n",
    "from torch.optim import Adam\n",
    "from torchvision.datasets import MNIST\n",
    "from torchvision import datasets, transforms\n",
    "from torch.utils.data import DataLoader\n",
    "\n",
    "import os\n",
    "\n",
    "BATCH_SIZE = 64\n",
    "\n",
    "# workaround for https://github.com/pytorch/vision/issues/1938 - error 403 when downloading mnist dataset\n",
    "import urllib\n",
    "opener = urllib.request.build_opener()\n",
    "opener.addheaders = [('User-agent', 'Mozilla/5.0')]\n",
    "urllib.request.install_opener(opener)"
   ]
  },
  {
   "cell_type": "code",
   "execution_count": 2,
   "id": "3c357d72",
   "metadata": {},
   "outputs": [],
   "source": [
    "class LitMNIST(LightningModule):\n",
    "\n",
    "  def __init__(self):\n",
    "    super().__init__()\n",
    "\n",
    "    # mnist images are (1, 28, 28) (channels, width, height)\n",
    "    self.layer_1 = torch.nn.Linear(28 * 28, 128)\n",
    "    self.layer_2 = torch.nn.Linear(128, 256)\n",
    "    self.layer_3 = torch.nn.Linear(256, 10)\n",
    "\n",
    "  def forward(self, x):\n",
    "    batch_size, channels, width, height = x.size()\n",
    "\n",
    "    # (b, 1, 28, 28) -> (b, 1*28*28)\n",
    "    x = x.view(batch_size, -1)\n",
    "    x = self.layer_1(x)\n",
    "    x = F.relu(x)\n",
    "    x = self.layer_2(x)\n",
    "    x = F.relu(x)\n",
    "    x = self.layer_3(x)\n",
    "\n",
    "    x = F.log_softmax(x, dim=1)\n",
    "    return x\n",
    "\n",
    "  def process_batch(self, batch):\n",
    "      return batch\n",
    "\n",
    "  def training_step(self, batch, batch_idx):\n",
    "      x, y = self.process_batch(batch)\n",
    "      logits = self(x)\n",
    "      loss = F.nll_loss(logits, y)\n",
    "      return loss\n",
    "\n",
    "  def cross_entropy_loss(self, logits, labels):\n",
    "      return F.nll_loss(logits, labels)\n",
    "\n",
    "  def configure_optimizers(self):\n",
    "      return Adam(self.parameters(), lr=1e-3)\n",
    "\n",
    "  def prepare_data(self):\n",
    "      # download data only\n",
    "      self.mnist_train = MNIST(os.getcwd(), train=True, download=True, transform=transforms.ToTensor())\n",
    "\n",
    "  def setup(self, stage=None):\n",
    "      # transforms for images\n",
    "      transform=transforms.Compose([transforms.ToTensor(),\n",
    "                                    transforms.Normalize((0.1307,), (0.3081,))])\n",
    "      self.mnist_train = MNIST(os.getcwd(), train=True, download=False, transform=transform)\n",
    "\n",
    "  def train_dataloader(self):\n",
    "       return DataLoader(self.mnist_train, batch_size=64, num_workers=2, pin_memory=True)"
   ]
  },
  {
   "cell_type": "code",
   "execution_count": 3,
   "id": "f31c7a87",
   "metadata": {},
   "outputs": [
    {
     "name": "stderr",
     "output_type": "stream",
     "text": [
      "GPU available: True, used: True\n",
      "TPU available: False, using: 0 TPU cores\n",
      "IPU available: False, using: 0 IPUs\n"
     ]
    }
   ],
   "source": [
    "model = LitMNIST()\n",
    "trainer = Trainer(max_epochs=5, gpus=1 if torch.cuda.is_available else 0)"
   ]
  },
  {
   "cell_type": "code",
   "execution_count": 4,
   "id": "b02e4b59",
   "metadata": {},
   "outputs": [
    {
     "name": "stderr",
     "output_type": "stream",
     "text": [
      "/home/jovyan/conda/lib/python3.8/site-packages/torchvision/datasets/mnist.py:498: UserWarning: The given NumPy array is not writeable, and PyTorch does not support non-writeable tensors. This means you can write to the underlying (supposedly non-writeable) NumPy array using the tensor. You may want to copy the array to protect its data or make it writeable before converting it to a tensor. This type of warning will be suppressed for the rest of this program. (Triggered internally at  /pytorch/torch/csrc/utils/tensor_numpy.cpp:180.)\n",
      "  return torch.from_numpy(parsed.astype(m[2], copy=False)).view(*s)\n",
      "LOCAL_RANK: 0 - CUDA_VISIBLE_DEVICES: [0]\n",
      "2021-08-20 11:38:17.192889: I tensorflow/stream_executor/platform/default/dso_loader.cc:49] Successfully opened dynamic library libcudart.so.11.0\n",
      "\n",
      "  | Name    | Type   | Params\n",
      "-----------------------------------\n",
      "0 | layer_1 | Linear | 100 K \n",
      "1 | layer_2 | Linear | 33.0 K\n",
      "2 | layer_3 | Linear | 2.6 K \n",
      "-----------------------------------\n",
      "136 K     Trainable params\n",
      "0         Non-trainable params\n",
      "136 K     Total params\n",
      "0.544     Total estimated model params size (MB)\n",
      "/home/jovyan/conda/lib/python3.8/site-packages/pytorch_lightning/trainer/data_loading.py:105: UserWarning: The dataloader, train dataloader, does not have many workers which may be a bottleneck. Consider increasing the value of the `num_workers` argument` (try 4 which is the number of cpus on this machine) in the `DataLoader` init to improve performance.\n",
      "  rank_zero_warn(\n"
     ]
    },
    {
     "data": {
      "application/vnd.jupyter.widget-view+json": {
       "model_id": "190c7f5552d54ba79d7de2d73c2b3ac8",
       "version_major": 2,
       "version_minor": 0
      },
      "text/plain": [
       "HBox(children=(FloatProgress(value=1.0, bar_style='info', description='Training', layout=Layout(flex='2'), max…"
      ]
     },
     "metadata": {},
     "output_type": "display_data"
    },
    {
     "name": "stderr",
     "output_type": "stream",
     "text": [
      "[W pthreadpool-cpp.cc:90] Warning: Leaking Caffe2 thread-pool after fork. (function pthreadpool)\n",
      "[W pthreadpool-cpp.cc:90] Warning: Leaking Caffe2 thread-pool after fork. (function pthreadpool)\n",
      "[W pthreadpool-cpp.cc:90] Warning: Leaking Caffe2 thread-pool after fork. (function pthreadpool)\n",
      "[W pthreadpool-cpp.cc:90] Warning: Leaking Caffe2 thread-pool after fork. (function pthreadpool)\n",
      "[W pthreadpool-cpp.cc:90] Warning: Leaking Caffe2 thread-pool after fork. (function pthreadpool)\n",
      "[W pthreadpool-cpp.cc:90] Warning: Leaking Caffe2 thread-pool after fork. (function pthreadpool)\n",
      "[W pthreadpool-cpp.cc:90] Warning: Leaking Caffe2 thread-pool after fork. (function pthreadpool)\n",
      "[W pthreadpool-cpp.cc:90] Warning: Leaking Caffe2 thread-pool after fork. (function pthreadpool)\n"
     ]
    },
    {
     "name": "stdout",
     "output_type": "stream",
     "text": [
      "\n"
     ]
    }
   ],
   "source": [
    "trainer.fit(model) # this will take a while to run for the first time; due to downloading of MNIST data"
   ]
  },
  {
   "cell_type": "code",
   "execution_count": 11,
   "id": "438ae3da",
   "metadata": {},
   "outputs": [
    {
     "name": "stderr",
     "output_type": "stream",
     "text": [
      "[W pthreadpool-cpp.cc:90] Warning: Leaking Caffe2 thread-pool after fork. (function pthreadpool)\n",
      "[W pthreadpool-cpp.cc:90] Warning: Leaking Caffe2 thread-pool after fork. (function pthreadpool)\n"
     ]
    },
    {
     "ename": "AttributeError",
     "evalue": "'list' object has no attribute 'shape'",
     "output_type": "error",
     "traceback": [
      "\u001b[0;31m---------------------------------------------------------------------------\u001b[0m",
      "\u001b[0;31mAttributeError\u001b[0m                            Traceback (most recent call last)",
      "\u001b[0;32m/tmp/ipykernel_1151/921378294.py\u001b[0m in \u001b[0;36m<module>\u001b[0;34m\u001b[0m\n\u001b[1;32m      1\u001b[0m \u001b[0;31m# Let's print out a few things about our vanilla model:\u001b[0m\u001b[0;34m\u001b[0m\u001b[0;34m\u001b[0m\u001b[0;34m\u001b[0m\u001b[0m\n\u001b[0;32m----> 2\u001b[0;31m \u001b[0mnext\u001b[0m\u001b[0;34m(\u001b[0m\u001b[0miter\u001b[0m\u001b[0;34m(\u001b[0m\u001b[0mmodel\u001b[0m\u001b[0;34m.\u001b[0m\u001b[0mtrain_dataloader\u001b[0m\u001b[0;34m(\u001b[0m\u001b[0;34m)\u001b[0m\u001b[0;34m)\u001b[0m\u001b[0;34m)\u001b[0m\u001b[0;34m.\u001b[0m\u001b[0mshape\u001b[0m\u001b[0;34m\u001b[0m\u001b[0;34m\u001b[0m\u001b[0m\n\u001b[0m",
      "\u001b[0;31mAttributeError\u001b[0m: 'list' object has no attribute 'shape'"
     ]
    }
   ],
   "source": [
    "# Let's print out a few things about our vanilla model:\n",
    "next(iter(model.train_dataloader()))"
   ]
  },
  {
   "cell_type": "code",
   "execution_count": 5,
   "id": "48101e39",
   "metadata": {},
   "outputs": [],
   "source": [
    "import nvidia.dali as dali\n",
    "from nvidia.dali import pipeline_def\n",
    "import nvidia.dali.fn as fn\n",
    "import nvidia.dali.types as types\n",
    "from nvidia.dali.plugin.pytorch import DALIClassificationIterator, LastBatchPolicy\n",
    "\n",
    "# Path to MNIST dataset\n",
    "data_path = os.path.join(os.environ['DALI_EXTRA_PATH'], 'db/MNIST/training/')\n",
    "\n",
    "@pipeline_def\n",
    "def GetMnistPipeline(device, shard_id=0, num_shards=1):\n",
    "    jpegs, labels = fn.readers.caffe2(path=data_path, shard_id=shard_id, num_shards=num_shards, random_shuffle=True, name=\"Reader\")\n",
    "    images = fn.decoders.image(jpegs,\n",
    "                               device='mixed' if device == 'gpu' else 'cpu',\n",
    "                               output_type=types.GRAY)\n",
    "    images = fn.crop_mirror_normalize(images,\n",
    "                                      dtype=types.FLOAT,\n",
    "                                      std=[0.3081 * 255],\n",
    "                                      mean=[0.1307 * 255],\n",
    "                                      output_layout=\"CHW\")\n",
    "    if device == \"gpu\":\n",
    "        labels = labels.gpu()\n",
    "    # PyTorch expects labels as INT64\n",
    "    labels = fn.cast(labels, dtype=types.INT64)\n",
    "    return images, labels"
   ]
  },
  {
   "cell_type": "code",
   "execution_count": 6,
   "id": "96897bdd",
   "metadata": {},
   "outputs": [],
   "source": [
    "class DALILitMNIST(LitMNIST):\n",
    "    def __init__(self):\n",
    "        super().__init__()\n",
    "\n",
    "    def prepare_data(self):\n",
    "      # no preparation is needed in DALI\n",
    "      pass\n",
    "\n",
    "    def setup(self, stage=None):\n",
    "        device_id = self.local_rank\n",
    "        shard_id = self.global_rank\n",
    "        num_shards = self.trainer.world_size\n",
    "        mnist_pipeline = GetMnistPipeline(batch_size=BATCH_SIZE, device='gpu', device_id=device_id, shard_id=shard_id,\n",
    "                                       num_shards=num_shards, num_threads=8)\n",
    "        self.train_loader = DALIClassificationIterator(mnist_pipeline, reader_name=\"Reader\",\n",
    "                                                       last_batch_policy=LastBatchPolicy.PARTIAL, auto_reset=True)\n",
    "    def train_dataloader(self):\n",
    "        return self.train_loader\n",
    "\n",
    "    def process_batch(self, batch):\n",
    "        x = batch[0][\"data\"]\n",
    "        y = batch[0][\"label\"].squeeze(-1)\n",
    "        return (x, y)"
   ]
  },
  {
   "cell_type": "code",
   "execution_count": 7,
   "id": "98f5dfb0",
   "metadata": {},
   "outputs": [
    {
     "name": "stderr",
     "output_type": "stream",
     "text": [
      "GPU available: True, used: True\n",
      "TPU available: False, using: 0 TPU cores\n",
      "IPU available: False, using: 0 IPUs\n",
      "LOCAL_RANK: 0 - CUDA_VISIBLE_DEVICES: [0]\n",
      "\n",
      "  | Name    | Type   | Params\n",
      "-----------------------------------\n",
      "0 | layer_1 | Linear | 100 K \n",
      "1 | layer_2 | Linear | 33.0 K\n",
      "2 | layer_3 | Linear | 2.6 K \n",
      "-----------------------------------\n",
      "136 K     Trainable params\n",
      "0         Non-trainable params\n",
      "136 K     Total params\n",
      "0.544     Total estimated model params size (MB)\n"
     ]
    },
    {
     "data": {
      "application/vnd.jupyter.widget-view+json": {
       "model_id": "a161f5b497814ccc8e913aabe2b702b9",
       "version_major": 2,
       "version_minor": 0
      },
      "text/plain": [
       "HBox(children=(FloatProgress(value=1.0, bar_style='info', description='Training', layout=Layout(flex='2'), max…"
      ]
     },
     "metadata": {},
     "output_type": "display_data"
    },
    {
     "name": "stdout",
     "output_type": "stream",
     "text": [
      "\n"
     ]
    }
   ],
   "source": [
    "# Even if previous Trainer finished his work it still keeps the GPU booked, force it to release the device.\n",
    "if 'PL_TRAINER_GPUS' in os.environ:\n",
    "    os.environ.pop('PL_TRAINER_GPUS')\n",
    "model = DALILitMNIST()\n",
    "trainer = Trainer(max_epochs=5, gpus=1 if torch.cuda.is_available else 0)\n",
    "# ddp work only in no-interactive mode, to test it unncoment and run as a script\n",
    "# trainer = Trainer(gpus=8, distributed_backend=\"ddp\", max_epochs=5)\n",
    "trainer.fit(model)"
   ]
  },
  {
   "cell_type": "code",
   "execution_count": 8,
   "id": "f1f030f6",
   "metadata": {},
   "outputs": [],
   "source": [
    "class BetterDALILitMNIST(LitMNIST):\n",
    "    def __init__(self):\n",
    "        super().__init__()\n",
    "\n",
    "    def prepare_data(self):\n",
    "      # no preparation is needed in DALI\n",
    "      pass\n",
    "\n",
    "    def setup(self, stage=None):\n",
    "        device_id = self.local_rank\n",
    "        shard_id = self.global_rank\n",
    "        num_shards = self.trainer.world_size\n",
    "        mnist_pipeline = GetMnistPipeline(batch_size=BATCH_SIZE, device='gpu', device_id=device_id, shard_id=shard_id, num_shards=num_shards, num_threads=8)\n",
    "\n",
    "        class LightningWrapper(DALIClassificationIterator):\n",
    "            def __init__(self, *kargs, **kvargs):\n",
    "                super().__init__(*kargs, **kvargs)\n",
    "\n",
    "            def __next__(self):\n",
    "                out = super().__next__()\n",
    "                # DDP is used so only one pipeline per process\n",
    "                # also we need to transform dict returned by DALIClassificationIterator to iterable\n",
    "                # and squeeze the labels\n",
    "                out = out[0]\n",
    "                return [out[k] if k != \"label\" else torch.squeeze(out[k]) for k in self.output_map]\n",
    "\n",
    "        self.train_loader = LightningWrapper(mnist_pipeline, reader_name=\"Reader\", last_batch_policy=LastBatchPolicy.PARTIAL, auto_reset=True)\n",
    "\n",
    "    def train_dataloader(self):\n",
    "        return self.train_loader"
   ]
  },
  {
   "cell_type": "code",
   "execution_count": 9,
   "id": "073334b1",
   "metadata": {},
   "outputs": [
    {
     "name": "stderr",
     "output_type": "stream",
     "text": [
      "GPU available: True, used: True\n",
      "TPU available: False, using: 0 TPU cores\n",
      "IPU available: False, using: 0 IPUs\n",
      "LOCAL_RANK: 0 - CUDA_VISIBLE_DEVICES: [0]\n",
      "\n",
      "  | Name    | Type   | Params\n",
      "-----------------------------------\n",
      "0 | layer_1 | Linear | 100 K \n",
      "1 | layer_2 | Linear | 33.0 K\n",
      "2 | layer_3 | Linear | 2.6 K \n",
      "-----------------------------------\n",
      "136 K     Trainable params\n",
      "0         Non-trainable params\n",
      "136 K     Total params\n",
      "0.544     Total estimated model params size (MB)\n"
     ]
    },
    {
     "data": {
      "application/vnd.jupyter.widget-view+json": {
       "model_id": "e93c3de8d9da46e99298fdbc367ab7e1",
       "version_major": 2,
       "version_minor": 0
      },
      "text/plain": [
       "HBox(children=(FloatProgress(value=1.0, bar_style='info', description='Training', layout=Layout(flex='2'), max…"
      ]
     },
     "metadata": {},
     "output_type": "display_data"
    },
    {
     "name": "stdout",
     "output_type": "stream",
     "text": [
      "\n"
     ]
    }
   ],
   "source": [
    "# Even if previous Trainer finished his work it still keeps the GPU booked, force it to release the device.\n",
    "if 'PL_TRAINER_GPUS' in os.environ:\n",
    "    os.environ.pop('PL_TRAINER_GPUS')\n",
    "model = BetterDALILitMNIST()\n",
    "trainer = Trainer(max_epochs=5, gpus=1 if torch.cuda.is_available else 0)\n",
    "# ddp work only in no-interactive mode, to test it unncoment and run as a script\n",
    "# trainer = Trainer(gpus=8, distributed_backend=\"ddp\", max_epochs=5)\n",
    "trainer.fit(model)"
   ]
  },
  {
   "cell_type": "markdown",
   "id": "90d02bab",
   "metadata": {},
   "source": [
    "Note that`DALI` accelerates training: ~175 it/s versus ~125 it/s using a vanilla dataloader."
   ]
  },
  {
   "cell_type": "code",
   "execution_count": null,
   "id": "f744313c",
   "metadata": {},
   "outputs": [],
   "source": [
    "LitMNIST"
   ]
  }
 ],
 "metadata": {
  "kernelspec": {
   "display_name": "Python 3 (ipykernel)",
   "language": "python",
   "name": "python3"
  },
  "language_info": {
   "codemirror_mode": {
    "name": "ipython",
    "version": 3
   },
   "file_extension": ".py",
   "mimetype": "text/x-python",
   "name": "python",
   "nbconvert_exporter": "python",
   "pygments_lexer": "ipython3",
   "version": "3.8.8"
  }
 },
 "nbformat": 4,
 "nbformat_minor": 5
}
